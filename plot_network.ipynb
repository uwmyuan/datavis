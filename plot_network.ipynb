{
 "cells": [
  {
   "cell_type": "code",
   "execution_count": 1,
   "metadata": {},
   "outputs": [],
   "source": [
    "\"\"\"\r\n",
    "Created on Wed Jul 12 10:27:50 2017\r\n",
    "\r\n",
    "@author: yunyuan\r\n",
    "# add ploting network status 2017-07-25\r\n",
    "# add mfd 2017-07-26\r\n",
    "# add Average Acceleration 2017-10-30\r\n",
    "\"\"\"\r\n",
    "from PyStartClient import *\r\n",
    "import matplotlib.pyplot as plt\r\n",
    "from mpl_toolkits.mplot3d import axes3d\r\n",
    "import seaborn as sns\r\n",
    "import numpy as np\r\n",
    "import math\r\n",
    "import scipy as sp\r\n",
    "from datetime import timedelta\r\n",
    "\r\n",
    "\"\"\" test methods \"\"\"\r\n",
    "client = PyStartClient(\"http://211.87.5.13/suzhouservice\")\r\n",
    "#client.login('admin','admin')\r\n",
    "startTime = datetime.datetime(2017, 4, 11, 0, 0, 0)\r\n",
    "endTime = datetime.datetime(2017, 4, 11, 23, 59, 59)\r\n",
    "statusList = client.getNetworkStatusList(startTime, endTime)\r\n",
    "\r\n",
    "#print(dir(statusList[0]))\r\n",
    "#['AverageSpeed', 'LiquidityRatio', 'TimeStamp', 'TotalCount', 'VehicleCount',\r\n",
    "\r\n",
    "timestamp=[x.TimeStamp for x in statusList]\r\n",
    "averagespeed=[x.AverageSpeed for x in statusList]\r\n",
    "liquidityratio=[x.LiquidityRatio for x in statusList]\r\n",
    "totalcount=[x.TotalCount for x in statusList]\r\n",
    "vehiclecount=[x.VehicleCount for x in statusList]"
   ]
  },
  {
   "cell_type": "code",
   "execution_count": 2,
   "metadata": {},
   "outputs": [],
   "source": [
    "plt.figure(1,figsize=(8,4))\r\n",
    "plt.plot(timestamp,averagespeed,'b',label='speed')\r\n",
    "plt.xlabel('Time')\r\n",
    "plt.ylabel('Average Speed')\r\n",
    "plt.title('Time vs Speed')\r\n",
    "#plt.legend()\r\n",
    "plt.show()"
   ]
  },
  {
   "cell_type": "code",
   "execution_count": 3,
   "metadata": {},
   "outputs": [],
   "source": [
    "plt.figure(2,figsize=(8,4))\r\n",
    "plt.plot(timestamp,totalcount,'b',label='total count')\r\n",
    "plt.xlabel('Time')\r\n",
    "plt.ylabel('Total count')\r\n",
    "plt.title('Time vs Total count')\r\n",
    "#plt.legend()\r\n",
    "plt.show()"
   ]
  },
  {
   "cell_type": "code",
   "execution_count": 4,
   "metadata": {},
   "outputs": [],
   "source": [
    "plt.figure(3,figsize=(8,4))\r\n",
    "plt.plot(timestamp,liquidityratio,'b',label='liquidity ratio')\r\n",
    "plt.xlabel('Time')\r\n",
    "plt.ylabel('Liquidity ratio')\r\n",
    "plt.title('Time vs Liquidity ratio')\r\n",
    "#plt.legend()\r\n",
    "plt.show()"
   ]
  },
  {
   "cell_type": "code",
   "execution_count": 5,
   "metadata": {},
   "outputs": [],
   "source": [
    "plt.figure(4,figsize=(8,4))\r\n",
    "plt.plot(timestamp,vehiclecount,'b',label='Vehicle count')\r\n",
    "plt.xlabel('Time')\r\n",
    "plt.ylabel('Vehicle count')\r\n",
    "plt.title('Time vs Vehicle count')\r\n",
    "#plt.legend()\r\n",
    "plt.show()"
   ]
  },
  {
   "cell_type": "code",
   "execution_count": 6,
   "metadata": {},
   "outputs": [],
   "source": [
    "plt.figure(5,figsize=(8,4))    \r\n",
    "plt.plot(vehiclecount,totalcount,'b')    \r\n",
    "plt.xlabel('Vehicle count')\r\n",
    "plt.ylabel('Flow')\r\n",
    "plt.title('MFD')\r\n",
    "#plt.legend()\r\n",
    "plt.show()"
   ]
  },
  {
   "cell_type": "code",
   "execution_count": 7,
   "metadata": {},
   "outputs": [],
   "source": [
    "fig = plt.figure()\r\n",
    "ax = axes3d.Axes3D(fig)\r\n",
    "x_max=max(vehiclecount)\r\n",
    "x_min=min(vehiclecount)\r\n",
    "y_max=max(totalcount)\r\n",
    "y_min=min(totalcount)\r\n",
    "z_max=max(timestamp)\r\n",
    "z_min=min(timestamp)\r\n",
    "\r\n",
    "ax.scatter(vehiclecount,totalcount,[(x-datetime.datetime(2017,4,11)).total_seconds() for x in timestamp])\r\n",
    "ax.set_xlabel('Vehicle count')\r\n",
    "ax.set_ylabel('Flow')\r\n",
    "ax.set_zlabel('Timestamp')\r\n",
    "plt.title('MFD')\r\n",
    "#plt.legend()\r\n",
    "plt.show()"
   ]
  },
  {
   "cell_type": "code",
   "execution_count": 8,
   "metadata": {},
   "outputs": [],
   "source": [
    "plt.figure(7,figsize=(8,4))\r\n",
    "plt.plot(timestamp[1:len(timestamp)],np.diff(averagespeed),'b',label='speed')\r\n",
    "plt.xlabel('Time')\r\n",
    "plt.ylabel('Average Acceleration')\r\n",
    "plt.title('Time vs Acceleration')\r\n",
    "#plt.legend()\r\n",
    "plt.show()"
   ]
  }
 ],
 "metadata": {},
 "nbformat": 4,
 "nbformat_minor": 2
}
